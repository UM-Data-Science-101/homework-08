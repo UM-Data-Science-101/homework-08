{
  "cells": [
    {
      "cell_type": "markdown",
      "metadata": {},
      "source": [
        "---\n",
        "title: Back Bay National Wildlife Refuge\n",
        "jupyter: python3\n",
        "---\n",
        "\n",
        "> Back Bay National Wildlife Refuge is located in the southeastern corner of the City of Virginia Beach. The refuge was established in 1938 to protect and provide habitat for migrating and wintering waterfowl. Diverse habitats, including beachfront, freshwater marsh, dunes, shrub-scrub and upland forest are home to hundreds of species of birds, reptiles, amphibians, mammals and fish.\n",
        "\n",
        "![BNWR](https://www.fws.gov/sites/default/files/styles/banner_image_xl/public/banner_images/2020-09/waterfowl%20%28tundras%29.jpg?h=0c8d0f81&itok=NcZlpD27)\n",
        "\n",
        "\n",
        "To get introduced to the park and its history, please view the following interactive story map.\n",
        "\n",
        "[BBNWR History and Introduction](https://storymaps.arcgis.com/stories/960d9db38cca4f3d8d38111119b9874f)\n",
        "\n",
        "Additionally, here is some drone footage of the park for a better look at the geography and ecology of the area.\n",
        "\n",
        "[BBNWR Drone Footage](https://www.youtube.com/watch?v=NlW330aBTCc)"
      ]
    },
    {
      "cell_type": "code",
      "metadata": {},
      "source": [
        "import os\n",
        "import pandas as pd\n",
        "import numpy as np\n",
        "import seaborn as sb"
      ],
      "execution_count": null,
      "outputs": []
    },
    {
      "cell_type": "code",
      "metadata": {},
      "source": [
        "bbnwr = pd.read_csv(\"./BKB_WaterQualityData_2020084.csv\")\n",
        "bbnwr[\"Site_Id\"] = bbnwr[\"Site_Id\"].replace(\"d\", \"D\")\n",
        "bbnwr.columns"
      ],
      "execution_count": null,
      "outputs": []
    },
    {
      "cell_type": "markdown",
      "metadata": {},
      "source": [
        "## Question 1\n",
        "\n",
        "\n",
        "### Part (a)\n",
        "\n",
        "Plot the distribution of \"Water Depth (m)\". Comment on this distribution. What do you notice? Calculate a numerical summary that expresses this main feature of the plot."
      ]
    },
    {
      "cell_type": "code",
      "metadata": {},
      "source": [
        "# answer "
      ],
      "execution_count": null,
      "outputs": []
    },
    {
      "cell_type": "markdown",
      "metadata": {},
      "source": [
        "### Part (b)\n",
        "\n",
        "In this problem we will treat the values of \"Water Depth (m)\" as a population. Pull out this column by itself into a variable (`waterdepth`). Remove all missing values.\n",
        "\n",
        "For this population, compute the mean and standard deviation."
      ]
    },
    {
      "cell_type": "code",
      "metadata": {},
      "source": [
        "# population mean and std dev"
      ],
      "execution_count": null,
      "outputs": []
    },
    {
      "cell_type": "markdown",
      "metadata": {},
      "source": [
        "Using theoretical results from class, for a sample size of $n = 20$ units, calculate the *theoretical* mean and standard error of a sample mean of water depths using a simple random sample. Print out the values."
      ]
    },
    {
      "cell_type": "code",
      "metadata": {},
      "source": [
        "# theoretical mean and std error of sample mean"
      ],
      "execution_count": null,
      "outputs": []
    },
    {
      "cell_type": "markdown",
      "metadata": {},
      "source": [
        "### Part (c)\n",
        "\n",
        "Create a simulation of taking samples of 20 units and compute the sample mean. Repeat this simulation 1000 times. In order to ensure that our \"population\" is sufficiently large, use the `replace = True` option to the `sample` method.\n",
        "\n",
        "Using the results, calculate the **empirical** mean and standard error of the mean. We would not expect it to be exactly the same as the values calculated in the previous part, but it should be close."
      ]
    },
    {
      "cell_type": "code",
      "metadata": {},
      "source": [
        "# simulation"
      ],
      "execution_count": null,
      "outputs": []
    },
    {
      "cell_type": "markdown",
      "metadata": {},
      "source": [
        "### Part (d)\n",
        "\n",
        "Repeat Part (c) for a sample size of 1000. Graph the two distributions (use two code cells so that they get separate plots). What do you notice? Look carefully at the scales and at the shape of each distribution."
      ]
    },
    {
      "cell_type": "code",
      "metadata": {},
      "source": [
        "# Simulation "
      ],
      "execution_count": null,
      "outputs": []
    },
    {
      "cell_type": "markdown",
      "metadata": {},
      "source": [
        "### Part (e)\n",
        "\n",
        "According to the Gaussian empirical rule, 68% of observations should be within one standard error of the theoretical mean for $\\bar X$.\n",
        "\n",
        "For the two simulations, compute the empirical probability of an observation falling within one (theoretical) SEM of the (theoretical) mean of $\\bar X$. (Note: you will need to calculate the SEM for the sample mean of samples of size"
      ]
    },
    {
      "cell_type": "code",
      "metadata": {},
      "source": [
        "# empirical mean of sample means and standard error"
      ],
      "execution_count": null,
      "outputs": []
    },
    {
      "cell_type": "markdown",
      "metadata": {},
      "source": [
        "Comment on what you see. In particular, do you think the Central Limit Theorem would apply to a sample of 20 for this population? What about a sample of size 1000?\n",
        "\n",
        "Double click to edit for your answer.\n",
        "\n",
        "## Question 2\n",
        "\n",
        "### Part (a)\n",
        "As you probably noticed, the water depth measure is rather skewed. Select a transformation that minimizes the coefficient of skewness. Implement this and save it as `water_xform`."
      ]
    },
    {
      "cell_type": "code",
      "metadata": {},
      "source": [
        "# transformation"
      ],
      "execution_count": null,
      "outputs": []
    },
    {
      "cell_type": "markdown",
      "metadata": {},
      "source": [
        "### Part (b)\n",
        "\n",
        "Repeat the two simulations ($n = 20$, $n = 1000$) using the un-skewed water depth and compute the proportion of observations that fall within with one SEM. Note that you will need to recalculate the theoretical mean and standard error based on the transformed values."
      ]
    },
    {
      "cell_type": "code",
      "metadata": {},
      "source": [
        "# simulations"
      ],
      "execution_count": null,
      "outputs": []
    },
    {
      "cell_type": "markdown",
      "metadata": {},
      "source": [
        "### Part (c)\n",
        "\n",
        "Comment the results of Question 1 and Question 2. What do we see about the quality of the Central Limit Theorem approximation in these two cases?\n",
        "\n",
        "Double click to edit for your answer.\n",
        "\n",
        "## Question 3\n",
        "\n",
        "### Part (a)\n",
        "\n",
        "Create a table that has only the log of \"Water Depth (m)\" and \"Year\" as values. Limit the table to years after 1980. Drop any rows with missing values. Call this table `water_year`.\n",
        "\n",
        "Plot these values in a scatter plot."
      ]
    },
    {
      "cell_type": "code",
      "metadata": {},
      "source": [
        "# scatter plot"
      ],
      "execution_count": null,
      "outputs": []
    },
    {
      "cell_type": "markdown",
      "metadata": {},
      "source": [
        "### Part (b)\n",
        "\n",
        "Treating `water_year` as a population, take samples of size $n = 100$ (using `replace = True` again). For each, calculate the correlation of log water depth and year.\n",
        "\n",
        "Compare average the correlation coefficient with the \"population\" correlation coefficient of the `water_year` table. Evaluate the standard deviation of the sampling distribution and compare it to the theoretical standard error ($1/\\sqrt{n}$)."
      ]
    },
    {
      "cell_type": "code",
      "metadata": {},
      "source": [
        "# simulation and comparison"
      ],
      "execution_count": null,
      "outputs": []
    }
  ],
  "metadata": {
    "kernelspec": {
      "display_name": "Python 3",
      "language": "python",
      "name": "python3"
    }
  },
  "nbformat": 4,
  "nbformat_minor": 4
}